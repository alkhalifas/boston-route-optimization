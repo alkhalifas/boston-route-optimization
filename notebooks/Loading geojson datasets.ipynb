{
 "cells": [
  {
   "cell_type": "markdown",
   "metadata": {},
   "source": [
    "### Working with GeoJSON (Working)"
   ]
  },
  {
   "cell_type": "code",
   "execution_count": 2,
   "metadata": {},
   "outputs": [],
   "source": [
    "import json\n",
    "import pandas as pd"
   ]
  },
  {
   "cell_type": "code",
   "execution_count": 12,
   "metadata": {},
   "outputs": [],
   "source": [
    "# https://bostonopendata-boston.opendata.arcgis.com/datasets/boston::boston-street-segments.geojson?outSR=%7B%22latestWkid%22%3A2249%2C%22wkid%22%3A102686%7D"
   ]
  },
  {
   "cell_type": "code",
   "execution_count": 9,
   "metadata": {},
   "outputs": [],
   "source": [
    "with open('../data/Boston_Street_Segments.geojson') as f:  \n",
    "    data = json.load(f)    "
   ]
  },
  {
   "cell_type": "code",
   "execution_count": 10,
   "metadata": {},
   "outputs": [
    {
     "data": {
      "text/plain": [
       "dict"
      ]
     },
     "execution_count": 10,
     "metadata": {},
     "output_type": "execute_result"
    }
   ],
   "source": [
    "type(data)"
   ]
  },
  {
   "cell_type": "code",
   "execution_count": 14,
   "metadata": {},
   "outputs": [
    {
     "data": {
      "text/plain": [
       "19325"
      ]
     },
     "execution_count": 14,
     "metadata": {},
     "output_type": "execute_result"
    }
   ],
   "source": [
    "len(data[\"features\"])"
   ]
  },
  {
   "cell_type": "code",
   "execution_count": 16,
   "metadata": {},
   "outputs": [
    {
     "data": {
      "text/plain": [
       "{'type': 'Feature',\n",
       " 'properties': {'OBJECTID': 1,\n",
       "  'SEGMENT_ID': 1,\n",
       "  'L_F_ADD': '12',\n",
       "  'L_T_ADD': '22',\n",
       "  'R_F_ADD': '13',\n",
       "  'R_T_ADD': '29',\n",
       "  'PRE_DIR': '',\n",
       "  'ST_NAME': 'A',\n",
       "  'ST_TYPE': 'ST',\n",
       "  'SUF_DIR': '',\n",
       "  'MUN_L': 'Boston',\n",
       "  'MUN_R': 'Boston',\n",
       "  'CFCC': 'A31',\n",
       "  'SPEEDLIMIT': 25,\n",
       "  'ONEWAY': '',\n",
       "  'HEIGHT': None,\n",
       "  'WEIGHT': None,\n",
       "  'WIDTH': None,\n",
       "  'F_ZLEV': 0,\n",
       "  'T_ZLEV': 0,\n",
       "  'SHIELD': '',\n",
       "  'HWY_NUM': '',\n",
       "  'NBHD_L': 'South Boston',\n",
       "  'NBHD_R': 'South Boston',\n",
       "  'FT_COST': 0.07576054,\n",
       "  'TF_COST': 0.07576054,\n",
       "  'TF_DIR': ' ',\n",
       "  'FT_DIR': ' ',\n",
       "  'STATE00_L': 'MA',\n",
       "  'STATE00_R': 'MA',\n",
       "  'COUNTY00_L': '025',\n",
       "  'COUNTY00_R': '025',\n",
       "  'PLACE00_L': '07000',\n",
       "  'PLACE00_R': '07000',\n",
       "  'TRACT00_L': '02127',\n",
       "  'TRACT00_R': '02127',\n",
       "  'BLOCK00_L': ' ',\n",
       "  'BLOCK00_R': ' ',\n",
       "  'MCD00_L': '07000',\n",
       "  'MCD00_R': '07000',\n",
       "  'STREET_ID': 2,\n",
       "  'SHAPElen': 166.673187345359},\n",
       " 'geometry': {'type': 'LineString',\n",
       "  'coordinates': [[-71.05673543528182, 42.340782275564585],\n",
       "   [-71.05632524039281, 42.341123705544874]]}}"
      ]
     },
     "execution_count": 16,
     "metadata": {},
     "output_type": "execute_result"
    }
   ],
   "source": [
    "data[\"features\"][0]"
   ]
  },
  {
   "cell_type": "code",
   "execution_count": 41,
   "metadata": {},
   "outputs": [],
   "source": [
    "south_boston_only = []\n",
    "\n",
    "for item in data[\"features\"]:\n",
    "    entry = {}\n",
    "    entry[\"type\"] = item[\"type\"]\n",
    "    entry[\"OBJECTID\"] = item[\"properties\"][\"OBJECTID\"]\n",
    "    entry[\"NBHD_L\"] = item[\"properties\"][\"NBHD_L\"]\n",
    "    entry[\"ST_NAME\"] = item[\"properties\"][\"ST_NAME\"]\n",
    "    entry[\"STREET_ID\"] = item[\"properties\"][\"STREET_ID\"]\n",
    "    entry[\"SHAPElen\"] = item[\"properties\"][\"SHAPElen\"]\n",
    "    entry[\"coordinates\"] = item[\"geometry\"][\"coordinates\"]\n",
    "    \n",
    "    if entry[\"NBHD_L\"] == 'South Boston':\n",
    "        south_boston_only.append(entry)"
   ]
  },
  {
   "cell_type": "code",
   "execution_count": 42,
   "metadata": {},
   "outputs": [
    {
     "data": {
      "text/plain": [
       "1511"
      ]
     },
     "execution_count": 42,
     "metadata": {},
     "output_type": "execute_result"
    }
   ],
   "source": [
    "len(south_boston_only)"
   ]
  },
  {
   "cell_type": "code",
   "execution_count": 48,
   "metadata": {},
   "outputs": [
    {
     "data": {
      "text/plain": [
       "{'type': 'Feature',\n",
       " 'OBJECTID': 2123,\n",
       " 'NBHD_L': 'South Boston',\n",
       " 'ST_NAME': 'Eighth',\n",
       " 'STREET_ID': 1351,\n",
       " 'SHAPElen': 160.88950941940087,\n",
       " 'coordinates': [[-71.0323964246894, 42.331537687013956],\n",
       "  [-71.03180148261913, 42.33154466725968]]}"
      ]
     },
     "execution_count": 48,
     "metadata": {},
     "output_type": "execute_result"
    }
   ],
   "source": [
    "south_boston_only[131]"
   ]
  },
  {
   "cell_type": "code",
   "execution_count": 49,
   "metadata": {},
   "outputs": [],
   "source": [
    "all_coords = []\n",
    "\n",
    "for item in south_boston_only:\n",
    "    all_coords.append(item[\"coordinates\"][0])\n",
    "    all_coords.append(item[\"coordinates\"][1])\n"
   ]
  },
  {
   "cell_type": "code",
   "execution_count": 50,
   "metadata": {},
   "outputs": [
    {
     "data": {
      "text/plain": [
       "3022"
      ]
     },
     "execution_count": 50,
     "metadata": {},
     "output_type": "execute_result"
    }
   ],
   "source": [
    "len(all_coords)"
   ]
  },
  {
   "cell_type": "code",
   "execution_count": null,
   "metadata": {},
   "outputs": [],
   "source": [
    "known_nodes = []\n",
    "\n",
    "for "
   ]
  }
 ],
 "metadata": {
  "kernelspec": {
   "display_name": "Python 3",
   "language": "python",
   "name": "python3"
  },
  "language_info": {
   "codemirror_mode": {
    "name": "ipython",
    "version": 3
   },
   "file_extension": ".py",
   "mimetype": "text/x-python",
   "name": "python",
   "nbconvert_exporter": "python",
   "pygments_lexer": "ipython3",
   "version": "3.8.5"
  }
 },
 "nbformat": 4,
 "nbformat_minor": 4
}
