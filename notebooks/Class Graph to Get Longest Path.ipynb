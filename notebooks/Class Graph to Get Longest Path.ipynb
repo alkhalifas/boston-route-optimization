{
 "cells": [
  {
   "cell_type": "markdown",
   "metadata": {},
   "source": [
    "## Class Graph with DFS:"
   ]
  },
  {
   "cell_type": "code",
   "execution_count": 2,
   "metadata": {},
   "outputs": [],
   "source": [
    "from collections import deque"
   ]
  },
  {
   "cell_type": "code",
   "execution_count": 13,
   "metadata": {},
   "outputs": [
    {
     "name": "stdout",
     "output_type": "stream",
     "text": [
      "Longest path is from 5 to 7 of length 5\n"
     ]
    }
   ],
   "source": [
    "# Adapted from Github Gist\n",
    "\n",
    "class BostonMarathonGraph:\n",
    " \n",
    "    def __init__(self, nodes):\n",
    " \n",
    "        # Instantiate nodes, adjacency list, and max distance travelled\n",
    "        self.nodes = nodes\n",
    "        self.adjacency_list = {i: [] for i in range(self.nodes)}\n",
    "        self.maximum_distance = 100\n",
    " \n",
    "    def addEdge(self, u, v):\n",
    "        # Assign u and v as a new additional edge\n",
    "        self.adjacency_list[u].append(v)\n",
    "        self.adjacency_list[v].append(u)\n",
    " \n",
    "    def BFS(self, u):\n",
    "        # BFS to find furthest node and get distance\n",
    "        visited = [False for i in range(self.nodes + 1)]\n",
    "        distance = [-1 for i in range(self.nodes + 1)]\n",
    " \n",
    "        distance[u] = 0\n",
    "        queue = deque()\n",
    "        queue.append(u)\n",
    "        visited[u] = True\n",
    " \n",
    "        while queue:\n",
    "            front = queue.popleft() \n",
    "            for i in self.adjacency_list[front]:\n",
    "                if not visited[i]:\n",
    "                    visited[i] = True\n",
    "                    distance[i] = distance[front]+1\n",
    "                    queue.append(i)\n",
    " \n",
    "        maxDis = 0\n",
    " \n",
    "        for i in range(self.nodes):\n",
    "            if distance[i] > maxDis:\n",
    " \n",
    "                maxDis = distance[i]\n",
    "                nodeIdx = i\n",
    " \n",
    "        return nodeIdx, maxDis\n",
    " \n",
    "    def LongestPathLength(self):\n",
    "        node, Dis = self.BFS(0)\n",
    "        node_2, LongDis = self.BFS(node)\n",
    "        print('Longest path is from', node, 'to', node_2, 'of length', LongDis)\n",
    "\n",
    "\n",
    "\n",
    "G = Graph(10)\n",
    "G.addEdge(0, 1)\n",
    "G.addEdge(1, 2)\n",
    "G.addEdge(2, 3)\n",
    "G.addEdge(2, 9)\n",
    "G.addEdge(2, 4)\n",
    "G.addEdge(4, 5)\n",
    "G.addEdge(1, 6)\n",
    "G.addEdge(6, 7)\n",
    "G.addEdge(6, 8)\n",
    " \n",
    "G.LongestPathLength()"
   ]
  },
  {
   "cell_type": "code",
   "execution_count": null,
   "metadata": {},
   "outputs": [],
   "source": []
  },
  {
   "cell_type": "code",
   "execution_count": null,
   "metadata": {},
   "outputs": [],
   "source": []
  }
 ],
 "metadata": {
  "kernelspec": {
   "display_name": "Python 3",
   "language": "python",
   "name": "python3"
  },
  "language_info": {
   "codemirror_mode": {
    "name": "ipython",
    "version": 3
   },
   "file_extension": ".py",
   "mimetype": "text/x-python",
   "name": "python",
   "nbconvert_exporter": "python",
   "pygments_lexer": "ipython3",
   "version": "3.8.5"
  }
 },
 "nbformat": 4,
 "nbformat_minor": 4
}
