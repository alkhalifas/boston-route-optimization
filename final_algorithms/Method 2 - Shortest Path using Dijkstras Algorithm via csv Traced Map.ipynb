{
 "cells": [
  {
   "cell_type": "markdown",
   "metadata": {},
   "source": [
    "## Method 2 - Dijkstras Algorithm for Shortest Path"
   ]
  },
  {
   "cell_type": "markdown",
   "metadata": {},
   "source": [
    "### Import Libraries:"
   ]
  },
  {
   "cell_type": "code",
   "execution_count": 3,
   "metadata": {},
   "outputs": [],
   "source": [
    "from queue import PriorityQueue\n",
    "import pandas as pd\n",
    "import networkx as nx\n",
    "import matplotlib.pyplot as plt\n",
    "import sys\n",
    "import pandas as pd\n",
    "from collections import defaultdict, deque\n"
   ]
  },
  {
   "cell_type": "markdown",
   "metadata": {},
   "source": [
    "### Import Data"
   ]
  },
  {
   "cell_type": "code",
   "execution_count": 4,
   "metadata": {},
   "outputs": [
    {
     "data": {
      "text/html": [
       "<div>\n",
       "<style scoped>\n",
       "    .dataframe tbody tr th:only-of-type {\n",
       "        vertical-align: middle;\n",
       "    }\n",
       "\n",
       "    .dataframe tbody tr th {\n",
       "        vertical-align: top;\n",
       "    }\n",
       "\n",
       "    .dataframe thead th {\n",
       "        text-align: right;\n",
       "    }\n",
       "</style>\n",
       "<table border=\"1\" class=\"dataframe\">\n",
       "  <thead>\n",
       "    <tr style=\"text-align: right;\">\n",
       "      <th></th>\n",
       "      <th>s</th>\n",
       "      <th>d</th>\n",
       "      <th>w</th>\n",
       "    </tr>\n",
       "  </thead>\n",
       "  <tbody>\n",
       "    <tr>\n",
       "      <th>0</th>\n",
       "      <td>0</td>\n",
       "      <td>1</td>\n",
       "      <td>11</td>\n",
       "    </tr>\n",
       "    <tr>\n",
       "      <th>1</th>\n",
       "      <td>1</td>\n",
       "      <td>2</td>\n",
       "      <td>12</td>\n",
       "    </tr>\n",
       "    <tr>\n",
       "      <th>2</th>\n",
       "      <td>2</td>\n",
       "      <td>3</td>\n",
       "      <td>11</td>\n",
       "    </tr>\n",
       "    <tr>\n",
       "      <th>3</th>\n",
       "      <td>0</td>\n",
       "      <td>4</td>\n",
       "      <td>14</td>\n",
       "    </tr>\n",
       "    <tr>\n",
       "      <th>4</th>\n",
       "      <td>3</td>\n",
       "      <td>0</td>\n",
       "      <td>10</td>\n",
       "    </tr>\n",
       "  </tbody>\n",
       "</table>\n",
       "</div>"
      ],
      "text/plain": [
       "   s  d   w\n",
       "0  0  1  11\n",
       "1  1  2  12\n",
       "2  2  3  11\n",
       "3  0  4  14\n",
       "4  3  0  10"
      ]
     },
     "execution_count": 4,
     "metadata": {},
     "output_type": "execute_result"
    }
   ],
   "source": [
    "df = pd.read_csv(\"../../data/boston_traced_map_norm.csv\")\n",
    "df[:5]"
   ]
  },
  {
   "cell_type": "markdown",
   "metadata": {},
   "source": [
    "### Apply Dijkstras:"
   ]
  },
  {
   "cell_type": "code",
   "execution_count": 5,
   "metadata": {},
   "outputs": [
    {
     "name": "stdout",
     "output_type": "stream",
     "text": [
      "[1, 2, 10, 9, 8, 18, 19, 20, 22]\n"
     ]
    }
   ],
   "source": [
    "class BostonGraph():\n",
    "    \"\"\"\n",
    "    A class that creates a graph network to be used with Dijkstras Algorithm\n",
    "    \"\"\"\n",
    "    \n",
    "    def __init__(self, nodes):\n",
    "        \"\"\"\n",
    "        A constructor that creates an instance of a graph using one\n",
    "        argument for the number of nodes\n",
    "        \"\"\"\n",
    "        self.nodes = set(range(1, nodes))\n",
    "        self.edges = {}\n",
    "        self.edge_distances = {}\n",
    "\n",
    "    def add_new_edge(self, source_node, destination_node, distance):\n",
    "        \"\"\"\n",
    "        A function that adds a new edge to the graph network\n",
    "        @input source_node: The node from which the edge starts\n",
    "        @input destination_node: The node from which the edge ends\n",
    "        @input distance: The weight of the node that represents distance      \n",
    "        \"\"\"\n",
    "        self.helper_add_edge(source_node, destination_node, distance)\n",
    "        self.helper_add_edge(destination_node, source_node, distance)\n",
    "\n",
    "    def helper_add_edge(self, source_node, destination_node, distance):\n",
    "        \"\"\"\n",
    "        A helper function that adds a new edge to the graph network\n",
    "        @input source_node: The node from which the edge starts\n",
    "        @input destination_node: The node from which the edge ends\n",
    "        @input distance: The weight of the node that represents distance      \n",
    "        \"\"\"\n",
    "        self.edges.setdefault(source_node, [])\n",
    "        self.edges[source_node].append(destination_node)\n",
    "        self.edge_distances[(source_node, destination_node)] = distance\n",
    "\n",
    "\n",
    "def apply_dijkstra(Graph, source_node):\n",
    "    \"\"\"\n",
    "    A function that applies Dijkstras algorithm to a given network\n",
    "    \n",
    "    @input Graph: The graph network that the algorithm should be applied to\n",
    "    @input source_node: The node from which the edge starts\n",
    "    \"\"\"\n",
    "    \n",
    "    # Define the nodes that were visited, and the current node\n",
    "    visited = {source_node: 0}\n",
    "    current_node = source_node\n",
    "    spec_path = {}\n",
    "\n",
    "    # Set the nodes\n",
    "    nodes = set(Graph.nodes)\n",
    "\n",
    "    # Enter while condition to start\n",
    "    while nodes:\n",
    "        min_node = None\n",
    "        # Iterate over the nodes to check if visited\n",
    "        for node in nodes:\n",
    "            if node in visited:\n",
    "                if min_node is None:\n",
    "                    min_node = node\n",
    "                elif visited[node] < visited[min_node]:\n",
    "                    min_node = node\n",
    "\n",
    "        if min_node is None:\n",
    "            break\n",
    "\n",
    "        nodes.remove(min_node)\n",
    "        cur_wt = visited[min_node]\n",
    "\n",
    "        # Iterate over the edges\n",
    "        for edge in Graph.edges[min_node]:\n",
    "            wt = cur_wt + Graph.edge_distances[(min_node, edge)]\n",
    "            # Set if condition of visited not met\n",
    "            if edge not in visited or wt < visited[edge]:\n",
    "                visited[edge] = wt\n",
    "                spec_path[edge] = min_node\n",
    "\n",
    "    return visited, spec_path\n",
    "\n",
    "def create_new_route(graph, start, end):\n",
    "    \"\"\"\n",
    "    Function that creates a route or path by applying Dijkstras\n",
    "    \"\"\"\n",
    "    distances, paths = apply_dijkstra(graph, start)\n",
    "    route = [end]\n",
    "\n",
    "    # Enter while loop to add paths to route\n",
    "    while end != start:\n",
    "        route.append(paths[end])\n",
    "        end = paths[end]\n",
    "\n",
    "    # Inverse to correct for order\n",
    "    route.reverse()\n",
    "    \n",
    "    return route\n",
    "\n",
    "def print_full_path(graph, start,end):\n",
    "    \"\"\"\n",
    "    Function that graphically shows the route\n",
    "    \"\"\"\n",
    "    # Call the create new route function\n",
    "    full_route = create_new_route(graph, start,end)\n",
    "    \n",
    "    # Print the route\n",
    "    print(full_route)\n",
    "        \n",
    "    \n",
    "if __name__ == '__main__':\n",
    "    \n",
    "    # Create new graph\n",
    "    g = BostonGraph(34)\n",
    "        \n",
    "    # Iterate over CSV and populate graph\n",
    "    for row in df.values:\n",
    "        g.add_new_edge(row[0], row[1], row[2])\n",
    "\n",
    "    # Print the final path:\n",
    "    print_full_path(g, 1, 22)"
   ]
  },
  {
   "cell_type": "code",
   "execution_count": null,
   "metadata": {},
   "outputs": [],
   "source": [
    "\n",
    "    \n"
   ]
  },
  {
   "cell_type": "code",
   "execution_count": null,
   "metadata": {},
   "outputs": [],
   "source": []
  },
  {
   "cell_type": "code",
   "execution_count": null,
   "metadata": {},
   "outputs": [],
   "source": []
  },
  {
   "cell_type": "code",
   "execution_count": null,
   "metadata": {},
   "outputs": [],
   "source": []
  }
 ],
 "metadata": {
  "kernelspec": {
   "display_name": "Python 3",
   "language": "python",
   "name": "python3"
  },
  "language_info": {
   "codemirror_mode": {
    "name": "ipython",
    "version": 3
   },
   "file_extension": ".py",
   "mimetype": "text/x-python",
   "name": "python",
   "nbconvert_exporter": "python",
   "pygments_lexer": "ipython3",
   "version": "3.8.5"
  }
 },
 "nbformat": 4,
 "nbformat_minor": 4
}
